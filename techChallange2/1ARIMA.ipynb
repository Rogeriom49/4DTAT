{
 "cells": [
  {
   "cell_type": "code",
   "execution_count": 128,
   "metadata": {},
   "outputs": [],
   "source": [
    "import pandas as pd\n",
    "import numpy as np\n",
    "import matplotlib.pyplot as plt\n",
    "from sklearn.metrics import mean_absolute_error, mean_squared_error,mean_absolute_percentage_error,r2_score\n",
    "from pmdarima import auto_arima\n",
    "from statsmodels.tsa.arima.model import ARIMA\n",
    "from statsmodels.tsa.statespace.sarimax import SARIMAX"
   ]
  },
  {
   "cell_type": "code",
   "execution_count": 129,
   "metadata": {},
   "outputs": [
    {
     "data": {
      "text/html": [
       "<div>\n",
       "<style scoped>\n",
       "    .dataframe tbody tr th:only-of-type {\n",
       "        vertical-align: middle;\n",
       "    }\n",
       "\n",
       "    .dataframe tbody tr th {\n",
       "        vertical-align: top;\n",
       "    }\n",
       "\n",
       "    .dataframe thead th {\n",
       "        text-align: right;\n",
       "    }\n",
       "</style>\n",
       "<table border=\"1\" class=\"dataframe\">\n",
       "  <thead>\n",
       "    <tr style=\"text-align: right;\">\n",
       "      <th></th>\n",
       "      <th>Data</th>\n",
       "      <th>Último</th>\n",
       "      <th>Abertura</th>\n",
       "      <th>Máxima</th>\n",
       "      <th>Mínima</th>\n",
       "      <th>Vol.</th>\n",
       "      <th>Var%</th>\n",
       "    </tr>\n",
       "  </thead>\n",
       "  <tbody>\n",
       "    <tr>\n",
       "      <th>0</th>\n",
       "      <td>24.05.2024</td>\n",
       "      <td>124.306</td>\n",
       "      <td>124.731</td>\n",
       "      <td>125.257</td>\n",
       "      <td>124.259</td>\n",
       "      <td>9,21M</td>\n",
       "      <td>-0,34%</td>\n",
       "    </tr>\n",
       "    <tr>\n",
       "      <th>1</th>\n",
       "      <td>23.05.2024</td>\n",
       "      <td>124.729</td>\n",
       "      <td>125.650</td>\n",
       "      <td>125.665</td>\n",
       "      <td>124.431</td>\n",
       "      <td>9,99M</td>\n",
       "      <td>-0,73%</td>\n",
       "    </tr>\n",
       "    <tr>\n",
       "      <th>2</th>\n",
       "      <td>22.05.2024</td>\n",
       "      <td>125.650</td>\n",
       "      <td>127.412</td>\n",
       "      <td>127.412</td>\n",
       "      <td>125.524</td>\n",
       "      <td>12,40M</td>\n",
       "      <td>-1,38%</td>\n",
       "    </tr>\n",
       "    <tr>\n",
       "      <th>3</th>\n",
       "      <td>21.05.2024</td>\n",
       "      <td>127.412</td>\n",
       "      <td>127.754</td>\n",
       "      <td>128.272</td>\n",
       "      <td>127.205</td>\n",
       "      <td>9,14M</td>\n",
       "      <td>-0,27%</td>\n",
       "    </tr>\n",
       "    <tr>\n",
       "      <th>4</th>\n",
       "      <td>20.05.2024</td>\n",
       "      <td>127.751</td>\n",
       "      <td>128.151</td>\n",
       "      <td>128.730</td>\n",
       "      <td>127.488</td>\n",
       "      <td>9,34M</td>\n",
       "      <td>-0,31%</td>\n",
       "    </tr>\n",
       "    <tr>\n",
       "      <th>5</th>\n",
       "      <td>17.05.2024</td>\n",
       "      <td>128.151</td>\n",
       "      <td>128.280</td>\n",
       "      <td>128.464</td>\n",
       "      <td>127.696</td>\n",
       "      <td>10,26M</td>\n",
       "      <td>-0,10%</td>\n",
       "    </tr>\n",
       "    <tr>\n",
       "      <th>6</th>\n",
       "      <td>16.05.2024</td>\n",
       "      <td>128.284</td>\n",
       "      <td>128.029</td>\n",
       "      <td>128.965</td>\n",
       "      <td>127.922</td>\n",
       "      <td>9,86M</td>\n",
       "      <td>0,20%</td>\n",
       "    </tr>\n",
       "    <tr>\n",
       "      <th>7</th>\n",
       "      <td>15.05.2024</td>\n",
       "      <td>128.028</td>\n",
       "      <td>128.514</td>\n",
       "      <td>128.646</td>\n",
       "      <td>127.029</td>\n",
       "      <td>10,86M</td>\n",
       "      <td>-0,38%</td>\n",
       "    </tr>\n",
       "    <tr>\n",
       "      <th>8</th>\n",
       "      <td>14.05.2024</td>\n",
       "      <td>128.515</td>\n",
       "      <td>128.155</td>\n",
       "      <td>128.965</td>\n",
       "      <td>127.962</td>\n",
       "      <td>11,89M</td>\n",
       "      <td>0,28%</td>\n",
       "    </tr>\n",
       "    <tr>\n",
       "      <th>9</th>\n",
       "      <td>13.05.2024</td>\n",
       "      <td>128.155</td>\n",
       "      <td>127.600</td>\n",
       "      <td>128.669</td>\n",
       "      <td>127.599</td>\n",
       "      <td>8,92M</td>\n",
       "      <td>0,44%</td>\n",
       "    </tr>\n",
       "    <tr>\n",
       "      <th>10</th>\n",
       "      <td>10.05.2024</td>\n",
       "      <td>127.600</td>\n",
       "      <td>128.188</td>\n",
       "      <td>129.022</td>\n",
       "      <td>127.467</td>\n",
       "      <td>12,57M</td>\n",
       "      <td>-0,46%</td>\n",
       "    </tr>\n",
       "    <tr>\n",
       "      <th>11</th>\n",
       "      <td>09.05.2024</td>\n",
       "      <td>128.188</td>\n",
       "      <td>129.468</td>\n",
       "      <td>129.468</td>\n",
       "      <td>127.376</td>\n",
       "      <td>13,37M</td>\n",
       "      <td>-1,00%</td>\n",
       "    </tr>\n",
       "    <tr>\n",
       "      <th>12</th>\n",
       "      <td>08.05.2024</td>\n",
       "      <td>129.481</td>\n",
       "      <td>129.210</td>\n",
       "      <td>129.564</td>\n",
       "      <td>128.048</td>\n",
       "      <td>9,79M</td>\n",
       "      <td>0,21%</td>\n",
       "    </tr>\n",
       "    <tr>\n",
       "      <th>13</th>\n",
       "      <td>07.05.2024</td>\n",
       "      <td>129.210</td>\n",
       "      <td>128.466</td>\n",
       "      <td>129.745</td>\n",
       "      <td>128.464</td>\n",
       "      <td>10,18M</td>\n",
       "      <td>0,58%</td>\n",
       "    </tr>\n",
       "    <tr>\n",
       "      <th>14</th>\n",
       "      <td>06.05.2024</td>\n",
       "      <td>128.466</td>\n",
       "      <td>128.506</td>\n",
       "      <td>129.181</td>\n",
       "      <td>128.294</td>\n",
       "      <td>8,78M</td>\n",
       "      <td>-0,03%</td>\n",
       "    </tr>\n",
       "    <tr>\n",
       "      <th>15</th>\n",
       "      <td>03.05.2024</td>\n",
       "      <td>128.509</td>\n",
       "      <td>127.130</td>\n",
       "      <td>128.787</td>\n",
       "      <td>127.130</td>\n",
       "      <td>12,80M</td>\n",
       "      <td>1,09%</td>\n",
       "    </tr>\n",
       "    <tr>\n",
       "      <th>16</th>\n",
       "      <td>02.05.2024</td>\n",
       "      <td>127.122</td>\n",
       "      <td>125.926</td>\n",
       "      <td>127.670</td>\n",
       "      <td>125.926</td>\n",
       "      <td>11,55M</td>\n",
       "      <td>0,95%</td>\n",
       "    </tr>\n",
       "    <tr>\n",
       "      <th>17</th>\n",
       "      <td>30.04.2024</td>\n",
       "      <td>125.924</td>\n",
       "      <td>127.352</td>\n",
       "      <td>127.352</td>\n",
       "      <td>125.856</td>\n",
       "      <td>10,89M</td>\n",
       "      <td>-1,12%</td>\n",
       "    </tr>\n",
       "    <tr>\n",
       "      <th>18</th>\n",
       "      <td>29.04.2024</td>\n",
       "      <td>127.352</td>\n",
       "      <td>126.527</td>\n",
       "      <td>127.352</td>\n",
       "      <td>126.467</td>\n",
       "      <td>8,39M</td>\n",
       "      <td>0,65%</td>\n",
       "    </tr>\n",
       "    <tr>\n",
       "      <th>19</th>\n",
       "      <td>26.04.2024</td>\n",
       "      <td>126.526</td>\n",
       "      <td>124.651</td>\n",
       "      <td>126.826</td>\n",
       "      <td>124.651</td>\n",
       "      <td>8,90M</td>\n",
       "      <td>1,51%</td>\n",
       "    </tr>\n",
       "  </tbody>\n",
       "</table>\n",
       "</div>"
      ],
      "text/plain": [
       "          Data   Último  Abertura   Máxima   Mínima    Vol.    Var%\n",
       "0   24.05.2024  124.306   124.731  125.257  124.259   9,21M  -0,34%\n",
       "1   23.05.2024  124.729   125.650  125.665  124.431   9,99M  -0,73%\n",
       "2   22.05.2024  125.650   127.412  127.412  125.524  12,40M  -1,38%\n",
       "3   21.05.2024  127.412   127.754  128.272  127.205   9,14M  -0,27%\n",
       "4   20.05.2024  127.751   128.151  128.730  127.488   9,34M  -0,31%\n",
       "5   17.05.2024  128.151   128.280  128.464  127.696  10,26M  -0,10%\n",
       "6   16.05.2024  128.284   128.029  128.965  127.922   9,86M   0,20%\n",
       "7   15.05.2024  128.028   128.514  128.646  127.029  10,86M  -0,38%\n",
       "8   14.05.2024  128.515   128.155  128.965  127.962  11,89M   0,28%\n",
       "9   13.05.2024  128.155   127.600  128.669  127.599   8,92M   0,44%\n",
       "10  10.05.2024  127.600   128.188  129.022  127.467  12,57M  -0,46%\n",
       "11  09.05.2024  128.188   129.468  129.468  127.376  13,37M  -1,00%\n",
       "12  08.05.2024  129.481   129.210  129.564  128.048   9,79M   0,21%\n",
       "13  07.05.2024  129.210   128.466  129.745  128.464  10,18M   0,58%\n",
       "14  06.05.2024  128.466   128.506  129.181  128.294   8,78M  -0,03%\n",
       "15  03.05.2024  128.509   127.130  128.787  127.130  12,80M   1,09%\n",
       "16  02.05.2024  127.122   125.926  127.670  125.926  11,55M   0,95%\n",
       "17  30.04.2024  125.924   127.352  127.352  125.856  10,89M  -1,12%\n",
       "18  29.04.2024  127.352   126.527  127.352  126.467   8,39M   0,65%\n",
       "19  26.04.2024  126.526   124.651  126.826  124.651   8,90M   1,51%"
      ]
     },
     "metadata": {},
     "output_type": "display_data"
    }
   ],
   "source": [
    "df_old = pd.read_csv('datasets/Ibovespa14anos.csv')\n",
    "df = pd.read_csv('datasets/Ibovespa4anos.csv')\n",
    "display(df.head(20))"
   ]
  },
  {
   "cell_type": "code",
   "execution_count": 130,
   "metadata": {},
   "outputs": [],
   "source": [
    "df_data = df[['Data','Último']]"
   ]
  },
  {
   "cell_type": "code",
   "execution_count": 131,
   "metadata": {},
   "outputs": [
    {
     "data": {
      "text/html": [
       "<div>\n",
       "<style scoped>\n",
       "    .dataframe tbody tr th:only-of-type {\n",
       "        vertical-align: middle;\n",
       "    }\n",
       "\n",
       "    .dataframe tbody tr th {\n",
       "        vertical-align: top;\n",
       "    }\n",
       "\n",
       "    .dataframe thead th {\n",
       "        text-align: right;\n",
       "    }\n",
       "</style>\n",
       "<table border=\"1\" class=\"dataframe\">\n",
       "  <thead>\n",
       "    <tr style=\"text-align: right;\">\n",
       "      <th></th>\n",
       "      <th>Data</th>\n",
       "      <th>Último</th>\n",
       "    </tr>\n",
       "  </thead>\n",
       "  <tbody>\n",
       "    <tr>\n",
       "      <th>0</th>\n",
       "      <td>24.05.2024</td>\n",
       "      <td>124.306</td>\n",
       "    </tr>\n",
       "    <tr>\n",
       "      <th>1</th>\n",
       "      <td>23.05.2024</td>\n",
       "      <td>124.729</td>\n",
       "    </tr>\n",
       "    <tr>\n",
       "      <th>2</th>\n",
       "      <td>22.05.2024</td>\n",
       "      <td>125.650</td>\n",
       "    </tr>\n",
       "    <tr>\n",
       "      <th>3</th>\n",
       "      <td>21.05.2024</td>\n",
       "      <td>127.412</td>\n",
       "    </tr>\n",
       "    <tr>\n",
       "      <th>4</th>\n",
       "      <td>20.05.2024</td>\n",
       "      <td>127.751</td>\n",
       "    </tr>\n",
       "  </tbody>\n",
       "</table>\n",
       "</div>"
      ],
      "text/plain": [
       "         Data   Último\n",
       "0  24.05.2024  124.306\n",
       "1  23.05.2024  124.729\n",
       "2  22.05.2024  125.650\n",
       "3  21.05.2024  127.412\n",
       "4  20.05.2024  127.751"
      ]
     },
     "execution_count": 131,
     "metadata": {},
     "output_type": "execute_result"
    }
   ],
   "source": [
    "df_data.head()"
   ]
  },
  {
   "cell_type": "code",
   "execution_count": 132,
   "metadata": {},
   "outputs": [
    {
     "name": "stderr",
     "output_type": "stream",
     "text": [
      "C:\\Users\\rpjun\\AppData\\Local\\Temp\\ipykernel_6860\\2873202314.py:1: SettingWithCopyWarning: \n",
      "A value is trying to be set on a copy of a slice from a DataFrame\n",
      "\n",
      "See the caveats in the documentation: https://pandas.pydata.org/pandas-docs/stable/user_guide/indexing.html#returning-a-view-versus-a-copy\n",
      "  df_data.rename(columns={'Data':'ds','Último':'y'},inplace=True)\n"
     ]
    }
   ],
   "source": [
    "df_data.rename(columns={'Data':'ds','Último':'y'},inplace=True)"
   ]
  },
  {
   "cell_type": "code",
   "execution_count": 133,
   "metadata": {},
   "outputs": [
    {
     "name": "stdout",
     "output_type": "stream",
     "text": [
      "<class 'pandas.core.frame.DataFrame'>\n",
      "RangeIndex: 1094 entries, 0 to 1093\n",
      "Data columns (total 2 columns):\n",
      " #   Column  Non-Null Count  Dtype  \n",
      "---  ------  --------------  -----  \n",
      " 0   ds      1094 non-null   object \n",
      " 1   y       1094 non-null   float64\n",
      "dtypes: float64(1), object(1)\n",
      "memory usage: 17.2+ KB\n"
     ]
    }
   ],
   "source": [
    "df_data.info()"
   ]
  },
  {
   "cell_type": "code",
   "execution_count": 134,
   "metadata": {},
   "outputs": [
    {
     "name": "stderr",
     "output_type": "stream",
     "text": [
      "C:\\Users\\rpjun\\AppData\\Local\\Temp\\ipykernel_6860\\1635830987.py:1: UserWarning: Parsing dates in %d.%m.%Y format when dayfirst=False (the default) was specified. Pass `dayfirst=True` or specify a format to silence this warning.\n",
      "  df_data['ds'] = pd.to_datetime(df_data['ds'])\n",
      "C:\\Users\\rpjun\\AppData\\Local\\Temp\\ipykernel_6860\\1635830987.py:1: SettingWithCopyWarning: \n",
      "A value is trying to be set on a copy of a slice from a DataFrame.\n",
      "Try using .loc[row_indexer,col_indexer] = value instead\n",
      "\n",
      "See the caveats in the documentation: https://pandas.pydata.org/pandas-docs/stable/user_guide/indexing.html#returning-a-view-versus-a-copy\n",
      "  df_data['ds'] = pd.to_datetime(df_data['ds'])\n"
     ]
    }
   ],
   "source": [
    "df_data['ds'] = pd.to_datetime(df_data['ds'])"
   ]
  },
  {
   "cell_type": "code",
   "execution_count": 135,
   "metadata": {},
   "outputs": [],
   "source": [
    "df_data.set_index('ds', inplace=True)"
   ]
  },
  {
   "cell_type": "code",
   "execution_count": 136,
   "metadata": {},
   "outputs": [
    {
     "name": "stdout",
     "output_type": "stream",
     "text": [
      "Performing stepwise search to minimize aic\n",
      " ARIMA(2,1,2)(0,0,0)[0] intercept   : AIC=4203.069, Time=0.53 sec\n",
      " ARIMA(0,1,0)(0,0,0)[0] intercept   : AIC=4216.915, Time=0.02 sec\n",
      " ARIMA(1,1,0)(0,0,0)[0] intercept   : AIC=4203.079, Time=0.06 sec\n",
      " ARIMA(0,1,1)(0,0,0)[0] intercept   : AIC=4204.883, Time=0.12 sec\n",
      " ARIMA(0,1,0)(0,0,0)[0]             : AIC=4214.926, Time=0.02 sec\n",
      " ARIMA(1,1,2)(0,0,0)[0] intercept   : AIC=4202.462, Time=0.52 sec\n",
      " ARIMA(0,1,2)(0,0,0)[0] intercept   : AIC=4200.787, Time=0.12 sec\n",
      " ARIMA(0,1,3)(0,0,0)[0] intercept   : AIC=4202.335, Time=0.13 sec\n",
      " ARIMA(1,1,1)(0,0,0)[0] intercept   : AIC=4203.296, Time=0.17 sec\n",
      " ARIMA(1,1,3)(0,0,0)[0] intercept   : AIC=4201.150, Time=0.79 sec\n",
      " ARIMA(0,1,2)(0,0,0)[0]             : AIC=4198.799, Time=0.15 sec\n",
      " ARIMA(0,1,1)(0,0,0)[0]             : AIC=4202.898, Time=0.05 sec\n",
      " ARIMA(1,1,2)(0,0,0)[0]             : AIC=4200.472, Time=0.23 sec\n",
      " ARIMA(0,1,3)(0,0,0)[0]             : AIC=4200.346, Time=0.06 sec\n",
      " ARIMA(1,1,1)(0,0,0)[0]             : AIC=4201.310, Time=0.20 sec\n",
      " ARIMA(1,1,3)(0,0,0)[0]             : AIC=4199.160, Time=0.50 sec\n",
      "\n",
      "Best model:  ARIMA(0,1,2)(0,0,0)[0]          \n",
      "Total fit time: 3.681 seconds\n",
      "                               SARIMAX Results                                \n",
      "==============================================================================\n",
      "Dep. Variable:                      y   No. Observations:                 1094\n",
      "Model:               SARIMAX(0, 1, 2)   Log Likelihood               -2096.399\n",
      "Date:                Sat, 22 Jun 2024   AIC                           4198.799\n",
      "Time:                        21:12:14   BIC                           4213.789\n",
      "Sample:                             0   HQIC                          4204.472\n",
      "                               - 1094                                         \n",
      "Covariance Type:                  opg                                         \n",
      "==============================================================================\n",
      "                 coef    std err          z      P>|z|      [0.025      0.975]\n",
      "------------------------------------------------------------------------------\n",
      "ma.L1         -0.1169      0.015     -7.935      0.000      -0.146      -0.088\n",
      "ma.L2          0.0758      0.015      5.103      0.000       0.047       0.105\n",
      "sigma2         2.7132      0.062     43.990      0.000       2.592       2.834\n",
      "===================================================================================\n",
      "Ljung-Box (L1) (Q):                   0.00   Jarque-Bera (JB):              2345.60\n",
      "Prob(Q):                              0.96   Prob(JB):                         0.00\n",
      "Heteroskedasticity (H):               3.22   Skew:                             0.92\n",
      "Prob(H) (two-sided):                  0.00   Kurtosis:                         9.94\n",
      "===================================================================================\n",
      "\n",
      "Warnings:\n",
      "[1] Covariance matrix calculated using the outer product of gradients (complex-step).\n"
     ]
    }
   ],
   "source": [
    "model = auto_arima(df_data['y'], seasonal=False, trace=True)\n",
    "print(model.summary())"
   ]
  },
  {
   "cell_type": "code",
   "execution_count": 143,
   "metadata": {},
   "outputs": [],
   "source": [
    "def arima_forecast(history):\n",
    "    model = ARIMA(history, order=(0,1,2))\n",
    "    model_fit = model.fit()\n",
    "    output = model_fit.forecast()\n",
    "    yhat = output[0]\n",
    "    return yhat"
   ]
  },
  {
   "cell_type": "code",
   "execution_count": 144,
   "metadata": {},
   "outputs": [],
   "source": [
    "X = df_data.values\n",
    "size = int(len(X) * 0.8)\n",
    "train, test = X[0:size], X[size:len(X)]"
   ]
  },
  {
   "cell_type": "code",
   "execution_count": 145,
   "metadata": {},
   "outputs": [],
   "source": [
    "history = [x for x in train]\n",
    "predictions = list()\n",
    "for t in range(len(test)):\n",
    "    yhat = arima_forecast(history)\n",
    "    predictions.append(yhat)\n",
    "    obs = test[t]\n",
    "    history.append(obs)"
   ]
  },
  {
   "cell_type": "code",
   "execution_count": 146,
   "metadata": {},
   "outputs": [
    {
     "data": {
      "image/png": "[encoded data removed]",
      "text/plain": [
       "<Figure size 1200x600 with 1 Axes>"
      ]
     },
     "metadata": {},
     "output_type": "display_data"
    }
   ],
   "source": [
    "plt.figure(figsize=(12, 6), dpi=100)\n",
    "plt.plot(df_data.iloc[size:,:].index, test, label='True')\n",
    "plt.plot(df_data.iloc[size:,:].index, predictions, color='red', label='Predict')\n",
    "plt.title('Predict vs True')\n",
    "plt.xlabel('Data')\n",
    "plt.ylabel('Ultimo')\n",
    "plt.legend()\n",
    "plt.show()"
   ]
  },
  {
   "cell_type": "code",
   "execution_count": 152,
   "metadata": {},
   "outputs": [
    {
     "name": "stdout",
     "output_type": "stream",
     "text": [
      "96.0%\n"
     ]
    }
   ],
   "source": [
    "r2 = r2_score(test, predictions)\n",
    "mae = mean_absolute_error(test, predictions)\n",
    "mse =mean_squared_error(test, predictions)\n",
    "print(f\"{r2.round(2)*100}%\")"
   ]
  },
  {
   "cell_type": "code",
   "execution_count": null,
   "metadata": {},
   "outputs": [],
   "source": []
  }
 ],
 "metadata": {
  "kernelspec": {
   "display_name": "Python 3",
   "language": "python",
   "name": "python3"
  },
  "language_info": {
   "codemirror_mode": {
    "name": "ipython",
    "version": 3
   },
   "file_extension": ".py",
   "mimetype": "text/x-python",
   "name": "python",
   "nbconvert_exporter": "python",
   "pygments_lexer": "ipython3",
   "version": "3.12.2"
  }
 },
 "nbformat": 4,
 "nbformat_minor": 2
}
